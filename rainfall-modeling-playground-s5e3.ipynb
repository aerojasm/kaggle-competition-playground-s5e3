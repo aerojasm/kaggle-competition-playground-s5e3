{
 "cells": [
  {
   "cell_type": "markdown",
   "metadata": {},
   "source": [
    "# Rainfall Modeling\n",
    "Playground season 5, episode 3"
   ]
  },
  {
   "cell_type": "markdown",
   "metadata": {},
   "source": [
    "## Set Environment"
   ]
  },
  {
   "cell_type": "code",
   "execution_count": 1,
   "metadata": {
    "_cell_guid": "b1076dfc-b9ad-4769-8c92-a6c4dae69d19",
    "_uuid": "8f2839f25d086af736a60e9eeb907d3b93b6e0e5",
    "execution": {
     "iopub.execute_input": "2025-03-25T22:59:56.730899Z",
     "iopub.status.busy": "2025-03-25T22:59:56.730542Z",
     "iopub.status.idle": "2025-03-25T22:59:56.750340Z",
     "shell.execute_reply": "2025-03-25T22:59:56.749106Z",
     "shell.execute_reply.started": "2025-03-25T22:59:56.730865Z"
    },
    "trusted": true
   },
   "outputs": [],
   "source": [
    "# Import packages and show directory files\n",
    "import numpy as np\n",
    "import pandas as pd\n",
    "import matplotlib.pyplot as plt\n",
    "import matplotlib.ticker as mtick\n",
    "from sklearn.model_selection import train_test_split, KFold, GridSearchCV\n",
    "from sklearn.preprocessing import StandardScaler\n",
    "from sklearn.metrics import accuracy_score, precision_score, recall_score, roc_auc_score, confusion_matrix, ConfusionMatrixDisplay\n",
    "from sklearn.linear_model import LogisticRegression\n",
    "from sklearn.ensemble import RandomForestClassifier\n",
    "from sklearn.neighbors import KNeighborsClassifier\n",
    "from xgboost import XGBClassifier\n",
    "import lightgbm as lgbm\n",
    "import warnings\n",
    "\n",
    "import os\n",
    "# Deactivate for local execution\n",
    "# for dirname, _, filenames in os.walk('/kaggle/input'):\n",
    "#     for filename in filenames:\n",
    "#         print(os.path.join(dirname, filename))\n",
    "\n",
    "# Deactivate for execution in Kaggle\n",
    "dirname = os.getcwd()\n",
    "\n",
    "pd.set_option('display.max_columns', None)\n",
    "random_state = 42"
   ]
  },
  {
   "cell_type": "code",
   "execution_count": 2,
   "metadata": {
    "execution": {
     "iopub.execute_input": "2025-03-25T22:59:52.993836Z",
     "iopub.status.busy": "2025-03-25T22:59:52.993430Z",
     "iopub.status.idle": "2025-03-25T22:59:53.018845Z",
     "shell.execute_reply": "2025-03-25T22:59:53.017797Z",
     "shell.execute_reply.started": "2025-03-25T22:59:52.993796Z"
    },
    "jupyter": {
     "source_hidden": true
    },
    "trusted": true
   },
   "outputs": [
    {
     "name": "stdout",
     "output_type": "stream",
     "text": [
      "Datasets imported correctly\n"
     ]
    }
   ],
   "source": [
    "# Import datasets\n",
    "train = pd.read_csv(dirname + '/train.csv')\n",
    "train = train.rename(columns={'temparature': 'temperature'})\n",
    "test = pd.read_csv(dirname + '/test.csv')\n",
    "test = test.rename(columns={'temparature': 'temperature'})\n",
    "\n",
    "target = 'rainfall'\n",
    "\n",
    "print('Datasets imported correctly')"
   ]
  },
  {
   "cell_type": "code",
   "execution_count": 3,
   "metadata": {
    "execution": {
     "iopub.execute_input": "2025-03-25T22:59:53.020178Z",
     "iopub.status.busy": "2025-03-25T22:59:53.019857Z",
     "iopub.status.idle": "2025-03-25T22:59:53.029618Z",
     "shell.execute_reply": "2025-03-25T22:59:53.028544Z",
     "shell.execute_reply.started": "2025-03-25T22:59:53.020150Z"
    },
    "jupyter": {
     "source_hidden": true
    },
    "trusted": true
   },
   "outputs": [
    {
     "name": "stdout",
     "output_type": "stream",
     "text": [
      "Custom functions defined\n"
     ]
    }
   ],
   "source": [
    "# Define Custom Functions\n",
    "def plot_feature_distribution(data, features):\n",
    "    n_plots = len(features)\n",
    "    n_cols = 4\n",
    "    n_rows = (n_plots + n_cols - 1) // n_cols\n",
    "    \n",
    "    fig, axs = plt.subplots(n_rows, n_cols, figsize=(10, 7))\n",
    "    fig.set_layout_engine('tight')\n",
    "    axs = axs.ravel()\n",
    "\n",
    "    for idx, col in enumerate(features):\n",
    "        axs[idx].hist(data[col], bins=30, color='cornflowerblue')\n",
    "        axs[idx].set_title(col)\n",
    "        axs[idx].tick_params(axis='both', labelsize=8)\n",
    "        axs[idx].tick_params(axis='x', rotation=20)\n",
    "        axs[idx].yaxis.set_major_formatter(mtick.FuncFormatter(human_format))\n",
    "        axs[idx].set_ylabel('Samples')\n",
    "\n",
    "    for idx in range(n_plots, len(axs)):\n",
    "        axs[idx].set_visible(False)\n",
    "        \n",
    "    return fig\n",
    "\n",
    "def plot_binning_analyzer(data, features, bins=10):\n",
    "    n_plots = len(features)\n",
    "    n_cols = 3\n",
    "    n_rows = (n_plots + n_cols - 1) // n_cols\n",
    "    \n",
    "    fig, axs = plt.subplots(n_rows, n_cols, figsize=(10, 12), sharey=True)\n",
    "    fig.set_layout_engine('tight')\n",
    "    axs = axs.ravel()\n",
    "\n",
    "    for idx, col in enumerate(features):\n",
    "        data[\"bin\"] = pd.qcut(data[col], q=bins, duplicates='drop')\n",
    "        data[\"bin\"] = data[\"bin\"].apply(lambda x: f\"({round(x.left, 2)}, {round(x.right, 2)}]\")\n",
    "        bin_summary = data.groupby(\"bin\", observed=False)[\"rainfall\"].mean()\n",
    "        bin_summary.plot(kind='bar', ax=axs[idx], color='teal', alpha=0.7)\n",
    "        axs[idx].set_title(col)\n",
    "        axs[idx].set_ylabel('Event rate')\n",
    "        axs[idx].set_xlabel('')\n",
    "        axs[idx].yaxis.set_major_formatter(mtick.PercentFormatter(1))\n",
    "\n",
    "    for idx in range(n_plots, len(axs)):\n",
    "        axs[idx].set_visible(False)\n",
    "\n",
    "    data = data.drop(columns=['bin'])\n",
    "\n",
    "    return fig\n",
    "\n",
    "def human_format(num, pos):\n",
    "    if num >= 1e9:\n",
    "        return f'{num/1e9:.1f}B'\n",
    "    elif num >= 1e6:\n",
    "        return f'{num/1e6:.1f}M'\n",
    "    elif num >= 1e3:\n",
    "        return f'{num/1e3:.0f}K'\n",
    "    else:\n",
    "        return f'{num:.0f}'\n",
    "\n",
    "def plot_confusion_matrix(model, X_1, y_1, X_2, y_2, data1=None, data2=None, threshold=0.5):\n",
    "    fig, axs = plt.subplots(1, 2, figsize=(8, 4))\n",
    "    fig.set_layout_engine('tight')\n",
    "    fig.patch.set_facecolor('#f2ebe3ff')\n",
    "\n",
    "    # Get probability predictions\n",
    "    y_pred_1 = (model.predict_proba(X_1)[:, 1] >= threshold).astype(int)\n",
    "    y_pred_2 = (model.predict_proba(X_2)[:, 1] >= threshold).astype(int)\n",
    "\n",
    "    # Compute confusion matrices\n",
    "    cm1 = confusion_matrix(y_1, y_pred_1)\n",
    "    cm2 = confusion_matrix(y_2, y_pred_2)\n",
    "\n",
    "    # Display confusion matrices\n",
    "    disp1 = ConfusionMatrixDisplay(cm1).plot(cmap='Blues', ax=axs[0])\n",
    "    disp2 = ConfusionMatrixDisplay(cm2).plot(cmap='Blues', ax=axs[1])\n",
    "\n",
    "    # Remove colorbars\n",
    "    for disp in [disp1, disp2]:\n",
    "        for img in disp.ax_.get_images():\n",
    "            img.colorbar.remove()\n",
    "\n",
    "    # Add titles\n",
    "    axs[0].set_title(f'Confusion Matrix - {data1}')\n",
    "    axs[1].set_title(f'Confusion Matrix - {data2}')\n",
    "    \n",
    "    return fig\n",
    "\n",
    "print('Custom functions defined')"
   ]
  },
  {
   "cell_type": "markdown",
   "metadata": {},
   "source": [
    "## Basic EDA\n",
    "As every other dataset, I will first explore data structure and quality, in case anything needs to be solved before the modeling phase."
   ]
  },
  {
   "cell_type": "code",
   "execution_count": 4,
   "metadata": {
    "execution": {
     "iopub.execute_input": "2025-03-25T22:59:53.030952Z",
     "iopub.status.busy": "2025-03-25T22:59:53.030564Z",
     "iopub.status.idle": "2025-03-25T22:59:53.067199Z",
     "shell.execute_reply": "2025-03-25T22:59:53.065854Z",
     "shell.execute_reply.started": "2025-03-25T22:59:53.030896Z"
    },
    "jupyter": {
     "source_hidden": true
    },
    "trusted": true
   },
   "outputs": [
    {
     "data": {
      "text/html": [
       "<div>\n",
       "<style scoped>\n",
       "    .dataframe tbody tr th:only-of-type {\n",
       "        vertical-align: middle;\n",
       "    }\n",
       "\n",
       "    .dataframe tbody tr th {\n",
       "        vertical-align: top;\n",
       "    }\n",
       "\n",
       "    .dataframe thead th {\n",
       "        text-align: right;\n",
       "    }\n",
       "</style>\n",
       "<table border=\"1\" class=\"dataframe\">\n",
       "  <thead>\n",
       "    <tr style=\"text-align: right;\">\n",
       "      <th></th>\n",
       "      <th>id</th>\n",
       "      <th>day</th>\n",
       "      <th>pressure</th>\n",
       "      <th>maxtemp</th>\n",
       "      <th>temperature</th>\n",
       "      <th>mintemp</th>\n",
       "      <th>dewpoint</th>\n",
       "      <th>humidity</th>\n",
       "      <th>cloud</th>\n",
       "      <th>sunshine</th>\n",
       "      <th>winddirection</th>\n",
       "      <th>windspeed</th>\n",
       "      <th>rainfall</th>\n",
       "    </tr>\n",
       "  </thead>\n",
       "  <tbody>\n",
       "    <tr>\n",
       "      <th>1274</th>\n",
       "      <td>1274</td>\n",
       "      <td>180</td>\n",
       "      <td>1007.6</td>\n",
       "      <td>32.2</td>\n",
       "      <td>29.2</td>\n",
       "      <td>26.2</td>\n",
       "      <td>25.9</td>\n",
       "      <td>86.0</td>\n",
       "      <td>82.0</td>\n",
       "      <td>1.2</td>\n",
       "      <td>180.0</td>\n",
       "      <td>14.6</td>\n",
       "      <td>1</td>\n",
       "    </tr>\n",
       "    <tr>\n",
       "      <th>571</th>\n",
       "      <td>571</td>\n",
       "      <td>207</td>\n",
       "      <td>1009.5</td>\n",
       "      <td>32.0</td>\n",
       "      <td>29.1</td>\n",
       "      <td>26.4</td>\n",
       "      <td>25.1</td>\n",
       "      <td>70.0</td>\n",
       "      <td>43.0</td>\n",
       "      <td>10.3</td>\n",
       "      <td>180.0</td>\n",
       "      <td>13.0</td>\n",
       "      <td>1</td>\n",
       "    </tr>\n",
       "    <tr>\n",
       "      <th>1255</th>\n",
       "      <td>1255</td>\n",
       "      <td>161</td>\n",
       "      <td>1009.3</td>\n",
       "      <td>31.7</td>\n",
       "      <td>29.4</td>\n",
       "      <td>27.6</td>\n",
       "      <td>25.6</td>\n",
       "      <td>84.0</td>\n",
       "      <td>86.0</td>\n",
       "      <td>1.6</td>\n",
       "      <td>190.0</td>\n",
       "      <td>21.6</td>\n",
       "      <td>1</td>\n",
       "    </tr>\n",
       "    <tr>\n",
       "      <th>1939</th>\n",
       "      <td>1939</td>\n",
       "      <td>115</td>\n",
       "      <td>1011.4</td>\n",
       "      <td>25.2</td>\n",
       "      <td>23.1</td>\n",
       "      <td>21.0</td>\n",
       "      <td>20.9</td>\n",
       "      <td>79.0</td>\n",
       "      <td>79.0</td>\n",
       "      <td>3.1</td>\n",
       "      <td>40.0</td>\n",
       "      <td>26.5</td>\n",
       "      <td>0</td>\n",
       "    </tr>\n",
       "    <tr>\n",
       "      <th>579</th>\n",
       "      <td>579</td>\n",
       "      <td>215</td>\n",
       "      <td>1007.5</td>\n",
       "      <td>33.4</td>\n",
       "      <td>30.7</td>\n",
       "      <td>27.3</td>\n",
       "      <td>26.1</td>\n",
       "      <td>79.0</td>\n",
       "      <td>83.0</td>\n",
       "      <td>2.8</td>\n",
       "      <td>220.0</td>\n",
       "      <td>23.9</td>\n",
       "      <td>1</td>\n",
       "    </tr>\n",
       "  </tbody>\n",
       "</table>\n",
       "</div>"
      ],
      "text/plain": [
       "        id  day  pressure  maxtemp  temperature  mintemp  dewpoint  humidity  \\\n",
       "1274  1274  180    1007.6     32.2         29.2     26.2      25.9      86.0   \n",
       "571    571  207    1009.5     32.0         29.1     26.4      25.1      70.0   \n",
       "1255  1255  161    1009.3     31.7         29.4     27.6      25.6      84.0   \n",
       "1939  1939  115    1011.4     25.2         23.1     21.0      20.9      79.0   \n",
       "579    579  215    1007.5     33.4         30.7     27.3      26.1      79.0   \n",
       "\n",
       "      cloud  sunshine  winddirection  windspeed  rainfall  \n",
       "1274   82.0       1.2          180.0       14.6         1  \n",
       "571    43.0      10.3          180.0       13.0         1  \n",
       "1255   86.0       1.6          190.0       21.6         1  \n",
       "1939   79.0       3.1           40.0       26.5         0  \n",
       "579    83.0       2.8          220.0       23.9         1  "
      ]
     },
     "execution_count": 4,
     "metadata": {},
     "output_type": "execute_result"
    }
   ],
   "source": [
    "# Train data sample\n",
    "train.sample(5)"
   ]
  },
  {
   "cell_type": "code",
   "execution_count": 5,
   "metadata": {},
   "outputs": [
    {
     "data": {
      "text/plain": [
       "['pressure',\n",
       " 'maxtemp',\n",
       " 'temperature',\n",
       " 'mintemp',\n",
       " 'dewpoint',\n",
       " 'humidity',\n",
       " 'cloud',\n",
       " 'sunshine',\n",
       " 'winddirection',\n",
       " 'windspeed']"
      ]
     },
     "execution_count": 5,
     "metadata": {},
     "output_type": "execute_result"
    }
   ],
   "source": [
    "# Define relevant columns\n",
    "avoid_cols = ['id', 'day', 'rainfall']\n",
    "base_features = [col for col in train.columns if col not in avoid_cols]\n",
    "base_features"
   ]
  },
  {
   "cell_type": "code",
   "execution_count": 6,
   "metadata": {
    "execution": {
     "iopub.execute_input": "2025-03-25T22:59:53.068686Z",
     "iopub.status.busy": "2025-03-25T22:59:53.068297Z",
     "iopub.status.idle": "2025-03-25T22:59:53.088819Z",
     "shell.execute_reply": "2025-03-25T22:59:53.087731Z",
     "shell.execute_reply.started": "2025-03-25T22:59:53.068647Z"
    },
    "jupyter": {
     "source_hidden": true
    },
    "trusted": true
   },
   "outputs": [
    {
     "name": "stdout",
     "output_type": "stream",
     "text": [
      "Train shape:  (2190, 13)\n",
      "Test shape:  (730, 12)\n"
     ]
    }
   ],
   "source": [
    "# Data shape\n",
    "print('Train shape: ', train.shape)\n",
    "print('Test shape: ', test.shape)"
   ]
  },
  {
   "cell_type": "code",
   "execution_count": 7,
   "metadata": {
    "execution": {
     "iopub.execute_input": "2025-03-25T22:59:53.090352Z",
     "iopub.status.busy": "2025-03-25T22:59:53.089935Z",
     "iopub.status.idle": "2025-03-25T22:59:53.146595Z",
     "shell.execute_reply": "2025-03-25T22:59:53.145598Z",
     "shell.execute_reply.started": "2025-03-25T22:59:53.090325Z"
    },
    "jupyter": {
     "source_hidden": true
    },
    "trusted": true
   },
   "outputs": [
    {
     "data": {
      "text/html": [
       "<div>\n",
       "<style scoped>\n",
       "    .dataframe tbody tr th:only-of-type {\n",
       "        vertical-align: middle;\n",
       "    }\n",
       "\n",
       "    .dataframe tbody tr th {\n",
       "        vertical-align: top;\n",
       "    }\n",
       "\n",
       "    .dataframe thead th {\n",
       "        text-align: right;\n",
       "    }\n",
       "</style>\n",
       "<table border=\"1\" class=\"dataframe\">\n",
       "  <thead>\n",
       "    <tr style=\"text-align: right;\">\n",
       "      <th></th>\n",
       "      <th>id</th>\n",
       "      <th>day</th>\n",
       "      <th>pressure</th>\n",
       "      <th>maxtemp</th>\n",
       "      <th>temperature</th>\n",
       "      <th>mintemp</th>\n",
       "      <th>dewpoint</th>\n",
       "      <th>humidity</th>\n",
       "      <th>cloud</th>\n",
       "      <th>sunshine</th>\n",
       "      <th>winddirection</th>\n",
       "      <th>windspeed</th>\n",
       "      <th>rainfall</th>\n",
       "    </tr>\n",
       "  </thead>\n",
       "  <tbody>\n",
       "    <tr>\n",
       "      <th>count</th>\n",
       "      <td>2190.000000</td>\n",
       "      <td>2190.000000</td>\n",
       "      <td>2190.000000</td>\n",
       "      <td>2190.000000</td>\n",
       "      <td>2190.000000</td>\n",
       "      <td>2190.000000</td>\n",
       "      <td>2190.000000</td>\n",
       "      <td>2190.000000</td>\n",
       "      <td>2190.000000</td>\n",
       "      <td>2190.000000</td>\n",
       "      <td>2190.000000</td>\n",
       "      <td>2190.000000</td>\n",
       "      <td>2190.000000</td>\n",
       "    </tr>\n",
       "    <tr>\n",
       "      <th>mean</th>\n",
       "      <td>1094.500000</td>\n",
       "      <td>179.948402</td>\n",
       "      <td>1013.602146</td>\n",
       "      <td>26.365799</td>\n",
       "      <td>23.953059</td>\n",
       "      <td>22.170091</td>\n",
       "      <td>20.454566</td>\n",
       "      <td>82.036530</td>\n",
       "      <td>75.721918</td>\n",
       "      <td>3.744429</td>\n",
       "      <td>104.863151</td>\n",
       "      <td>21.804703</td>\n",
       "      <td>0.753425</td>\n",
       "    </tr>\n",
       "    <tr>\n",
       "      <th>std</th>\n",
       "      <td>632.342866</td>\n",
       "      <td>105.203592</td>\n",
       "      <td>5.655366</td>\n",
       "      <td>5.654330</td>\n",
       "      <td>5.222410</td>\n",
       "      <td>5.059120</td>\n",
       "      <td>5.288406</td>\n",
       "      <td>7.800654</td>\n",
       "      <td>18.026498</td>\n",
       "      <td>3.626327</td>\n",
       "      <td>80.002416</td>\n",
       "      <td>9.898659</td>\n",
       "      <td>0.431116</td>\n",
       "    </tr>\n",
       "    <tr>\n",
       "      <th>min</th>\n",
       "      <td>0.000000</td>\n",
       "      <td>1.000000</td>\n",
       "      <td>999.000000</td>\n",
       "      <td>10.400000</td>\n",
       "      <td>7.400000</td>\n",
       "      <td>4.000000</td>\n",
       "      <td>-0.300000</td>\n",
       "      <td>39.000000</td>\n",
       "      <td>2.000000</td>\n",
       "      <td>0.000000</td>\n",
       "      <td>10.000000</td>\n",
       "      <td>4.400000</td>\n",
       "      <td>0.000000</td>\n",
       "    </tr>\n",
       "    <tr>\n",
       "      <th>25%</th>\n",
       "      <td>547.250000</td>\n",
       "      <td>89.000000</td>\n",
       "      <td>1008.600000</td>\n",
       "      <td>21.300000</td>\n",
       "      <td>19.300000</td>\n",
       "      <td>17.700000</td>\n",
       "      <td>16.800000</td>\n",
       "      <td>77.000000</td>\n",
       "      <td>69.000000</td>\n",
       "      <td>0.400000</td>\n",
       "      <td>40.000000</td>\n",
       "      <td>14.125000</td>\n",
       "      <td>1.000000</td>\n",
       "    </tr>\n",
       "    <tr>\n",
       "      <th>50%</th>\n",
       "      <td>1094.500000</td>\n",
       "      <td>178.500000</td>\n",
       "      <td>1013.000000</td>\n",
       "      <td>27.800000</td>\n",
       "      <td>25.500000</td>\n",
       "      <td>23.850000</td>\n",
       "      <td>22.150000</td>\n",
       "      <td>82.000000</td>\n",
       "      <td>83.000000</td>\n",
       "      <td>2.400000</td>\n",
       "      <td>70.000000</td>\n",
       "      <td>20.500000</td>\n",
       "      <td>1.000000</td>\n",
       "    </tr>\n",
       "    <tr>\n",
       "      <th>75%</th>\n",
       "      <td>1641.750000</td>\n",
       "      <td>270.000000</td>\n",
       "      <td>1017.775000</td>\n",
       "      <td>31.200000</td>\n",
       "      <td>28.400000</td>\n",
       "      <td>26.400000</td>\n",
       "      <td>25.000000</td>\n",
       "      <td>88.000000</td>\n",
       "      <td>88.000000</td>\n",
       "      <td>6.800000</td>\n",
       "      <td>200.000000</td>\n",
       "      <td>27.900000</td>\n",
       "      <td>1.000000</td>\n",
       "    </tr>\n",
       "    <tr>\n",
       "      <th>max</th>\n",
       "      <td>2189.000000</td>\n",
       "      <td>365.000000</td>\n",
       "      <td>1034.600000</td>\n",
       "      <td>36.000000</td>\n",
       "      <td>31.500000</td>\n",
       "      <td>29.800000</td>\n",
       "      <td>26.700000</td>\n",
       "      <td>98.000000</td>\n",
       "      <td>100.000000</td>\n",
       "      <td>12.100000</td>\n",
       "      <td>300.000000</td>\n",
       "      <td>59.500000</td>\n",
       "      <td>1.000000</td>\n",
       "    </tr>\n",
       "  </tbody>\n",
       "</table>\n",
       "</div>"
      ],
      "text/plain": [
       "                id          day     pressure      maxtemp  temperature  \\\n",
       "count  2190.000000  2190.000000  2190.000000  2190.000000  2190.000000   \n",
       "mean   1094.500000   179.948402  1013.602146    26.365799    23.953059   \n",
       "std     632.342866   105.203592     5.655366     5.654330     5.222410   \n",
       "min       0.000000     1.000000   999.000000    10.400000     7.400000   \n",
       "25%     547.250000    89.000000  1008.600000    21.300000    19.300000   \n",
       "50%    1094.500000   178.500000  1013.000000    27.800000    25.500000   \n",
       "75%    1641.750000   270.000000  1017.775000    31.200000    28.400000   \n",
       "max    2189.000000   365.000000  1034.600000    36.000000    31.500000   \n",
       "\n",
       "           mintemp     dewpoint     humidity        cloud     sunshine  \\\n",
       "count  2190.000000  2190.000000  2190.000000  2190.000000  2190.000000   \n",
       "mean     22.170091    20.454566    82.036530    75.721918     3.744429   \n",
       "std       5.059120     5.288406     7.800654    18.026498     3.626327   \n",
       "min       4.000000    -0.300000    39.000000     2.000000     0.000000   \n",
       "25%      17.700000    16.800000    77.000000    69.000000     0.400000   \n",
       "50%      23.850000    22.150000    82.000000    83.000000     2.400000   \n",
       "75%      26.400000    25.000000    88.000000    88.000000     6.800000   \n",
       "max      29.800000    26.700000    98.000000   100.000000    12.100000   \n",
       "\n",
       "       winddirection    windspeed     rainfall  \n",
       "count    2190.000000  2190.000000  2190.000000  \n",
       "mean      104.863151    21.804703     0.753425  \n",
       "std        80.002416     9.898659     0.431116  \n",
       "min        10.000000     4.400000     0.000000  \n",
       "25%        40.000000    14.125000     1.000000  \n",
       "50%        70.000000    20.500000     1.000000  \n",
       "75%       200.000000    27.900000     1.000000  \n",
       "max       300.000000    59.500000     1.000000  "
      ]
     },
     "execution_count": 7,
     "metadata": {},
     "output_type": "execute_result"
    }
   ],
   "source": [
    "# Descriptive statistics\n",
    "train.describe()"
   ]
  },
  {
   "cell_type": "code",
   "execution_count": 8,
   "metadata": {},
   "outputs": [
    {
     "data": {
      "text/plain": [
       "id               0\n",
       "day              0\n",
       "pressure         0\n",
       "maxtemp          0\n",
       "temperature      0\n",
       "mintemp          0\n",
       "dewpoint         0\n",
       "humidity         0\n",
       "cloud            0\n",
       "sunshine         0\n",
       "winddirection    0\n",
       "windspeed        0\n",
       "rainfall         0\n",
       "dtype: int64"
      ]
     },
     "execution_count": 8,
     "metadata": {},
     "output_type": "execute_result"
    }
   ],
   "source": [
    "# Check for missing values\n",
    "train.isnull().sum()"
   ]
  },
  {
   "cell_type": "code",
   "execution_count": 9,
   "metadata": {
    "execution": {
     "iopub.execute_input": "2025-03-25T22:59:53.148082Z",
     "iopub.status.busy": "2025-03-25T22:59:53.147656Z",
     "iopub.status.idle": "2025-03-25T22:59:56.695654Z",
     "shell.execute_reply": "2025-03-25T22:59:56.694362Z",
     "shell.execute_reply.started": "2025-03-25T22:59:53.148046Z"
    },
    "jupyter": {
     "source_hidden": true
    },
    "trusted": true
   },
   "outputs": [
    {
     "data": {
      "image/png": "[encoded data removed]",
      "text/plain": [
       "<Figure size 1000x700 with 16 Axes>"
      ]
     },
     "metadata": {},
     "output_type": "display_data"
    }
   ],
   "source": [
    "# Assess numerical columns distributions\n",
    "numerical_columns = train.select_dtypes(include=['int64', 'float64']).columns\n",
    "numerical_plots = plot_feature_distribution(train, numerical_columns)"
   ]
  },
  {
   "cell_type": "markdown",
   "metadata": {},
   "source": [
    "There are interesting insights from these features. \n",
    "* `pressure` and `windspeed` seem to have a normal-like distribution.\n",
    "* `maxtemp`, `temperature` and `mintemp` all are slightly skewed to the left\n",
    "* `dewpoint`, `humidity` and `cloud` are all very skewed to the left\n",
    "* `sunshine` is very skewed to the right\n",
    "* `winddirection` seems to be bimodal (there are to clear peaks)\n",
    "\n",
    "_Note: depending on the algorithm, the skewed features should be transformed and scaled to improve the model performance_"
   ]
  },
  {
   "cell_type": "code",
   "execution_count": 10,
   "metadata": {
    "execution": {
     "iopub.execute_input": "2025-03-25T22:59:56.696900Z",
     "iopub.status.busy": "2025-03-25T22:59:56.696635Z",
     "iopub.status.idle": "2025-03-25T22:59:56.703138Z",
     "shell.execute_reply": "2025-03-25T22:59:56.701567Z",
     "shell.execute_reply.started": "2025-03-25T22:59:56.696877Z"
    },
    "jupyter": {
     "source_hidden": true
    },
    "trusted": true
   },
   "outputs": [
    {
     "name": "stdout",
     "output_type": "stream",
     "text": [
      "Number of categorical columns:  0\n"
     ]
    }
   ],
   "source": [
    "# There are no categorical columns (beside the rainfall label)\n",
    "categorical_columns = train.select_dtypes(include=['object']).columns\n",
    "print('Number of categorical columns: ', len(categorical_columns))"
   ]
  },
  {
   "cell_type": "code",
   "execution_count": 11,
   "metadata": {
    "execution": {
     "iopub.execute_input": "2025-03-25T22:59:56.705459Z",
     "iopub.status.busy": "2025-03-25T22:59:56.705057Z",
     "iopub.status.idle": "2025-03-25T22:59:56.729487Z",
     "shell.execute_reply": "2025-03-25T22:59:56.728084Z",
     "shell.execute_reply.started": "2025-03-25T22:59:56.705420Z"
    },
    "jupyter": {
     "source_hidden": true
    },
    "trusted": true
   },
   "outputs": [
    {
     "data": {
      "text/plain": [
       "rainfall\n",
       "1    0.753425\n",
       "0    0.246575\n",
       "Name: proportion, dtype: float64"
      ]
     },
     "execution_count": 11,
     "metadata": {},
     "output_type": "execute_result"
    }
   ],
   "source": [
    "# Label distribution (%)\n",
    "train[target].value_counts(normalize=True)"
   ]
  },
  {
   "cell_type": "code",
   "execution_count": 12,
   "metadata": {},
   "outputs": [
    {
     "data": {
      "text/plain": [
       "rainfall\n",
       "1    1650\n",
       "0     540\n",
       "Name: count, dtype: int64"
      ]
     },
     "execution_count": 12,
     "metadata": {},
     "output_type": "execute_result"
    }
   ],
   "source": [
    "# Label distribution (#)\n",
    "train[target].value_counts()"
   ]
  },
  {
   "cell_type": "markdown",
   "metadata": {},
   "source": [
    "The dataset is imbalanced, which is always necessary to know. In fact, this should impact the way the target is modeled.\n",
    "\n",
    "Regarding basic relationships between the target variable and the features, it is not a good approach to calculate correlations, since the target is a binary variable. Other approaches should be better, like assessing feature importance in a tree model, for example. \n",
    "\n",
    "In this case, I will try with a binning analyzer, which basically groups the feature in bins and then calculates the amount of positive labels within each bin. The idea is to show if there are features that show a clear positive or negative relationship."
   ]
  },
  {
   "cell_type": "code",
   "execution_count": 13,
   "metadata": {},
   "outputs": [
    {
     "data": {
      "image/png": "[encoded data removed]",
      "text/plain": [
       "<Figure size 1000x1200 with 12 Axes>"
      ]
     },
     "metadata": {},
     "output_type": "display_data"
    }
   ],
   "source": [
    "# Binning Analyzer\n",
    "rainfall_binning = plot_binning_analyzer(train, base_features, 8)"
   ]
  },
  {
   "cell_type": "markdown",
   "metadata": {},
   "source": [
    "The binning analysis above shows that both `humidity` and `cloud` have a positive relation with the event rate, while `sunshine` shows a negative relation. During modeling I will have to figure out if it's better to add them as labels (e.g. `cloud` < 70) or as continious features.\n",
    "\n",
    "The rest don't show a clear relation so far, but still they could be added to a model to improve its performance."
   ]
  },
  {
   "cell_type": "markdown",
   "metadata": {},
   "source": [
    "## Feature Engineering"
   ]
  },
  {
   "cell_type": "code",
   "execution_count": 14,
   "metadata": {},
   "outputs": [
    {
     "name": "stdout",
     "output_type": "stream",
     "text": [
      "Features scaled and log transformed\n"
     ]
    }
   ],
   "source": [
    "# As mentioned before, some features will probably have to be transformed and scaled\n",
    "skewed_features = ['maxtemp', 'temperature', 'mintemp', 'dewpoint', 'humidity', 'sunshine', 'cloud']\n",
    "\n",
    "for feature in skewed_features:\n",
    "    # Train set\n",
    "    scaler = StandardScaler()\n",
    "    scaled_feature_name = f'{feature}_scaled'\n",
    "    train[scaled_feature_name] = np.log1p(train[feature])\n",
    "    train[scaled_feature_name] = scaler.fit_transform(train[scaled_feature_name].values.reshape(-1, 1))\n",
    "    \n",
    "    # Test set\n",
    "    test[scaled_feature_name] = np.log1p(test[feature])\n",
    "    test[scaled_feature_name] = scaler.transform(test[scaled_feature_name].values.reshape(-1, 1))\n",
    "\n",
    "print('Features scaled and log transformed')"
   ]
  },
  {
   "cell_type": "markdown",
   "metadata": {},
   "source": [
    "Now there is a new column per each skewed feature. This should help in models that non-tree models."
   ]
  },
  {
   "cell_type": "code",
   "execution_count": 15,
   "metadata": {},
   "outputs": [],
   "source": [
    "# Additional features\n",
    "train['windspeed_squared'] = train['windspeed'] ** 2\n",
    "train['temperature_difference'] = train['maxtemp'] - train['mintemp']"
   ]
  },
  {
   "cell_type": "markdown",
   "metadata": {},
   "source": [
    "## Sampling"
   ]
  },
  {
   "cell_type": "code",
   "execution_count": 16,
   "metadata": {},
   "outputs": [
    {
     "name": "stdout",
     "output_type": "stream",
     "text": [
      "Train set:  (1533, 22)\n",
      "Validation set:  (657, 22)\n",
      "Train labels:  (1533,)\n",
      "Validation labels:  (657,)\n"
     ]
    }
   ],
   "source": [
    "X_train, X_val, y_train, y_val = train_test_split(train.drop(columns=[target]), train[target], test_size=0.3, stratify=train[target], random_state=42)\n",
    "\n",
    "print('Train set: ', X_train.shape)\n",
    "print('Validation set: ', X_val.shape)\n",
    "print('Train labels: ', y_train.shape)\n",
    "print('Validation labels: ', y_val.shape)"
   ]
  },
  {
   "cell_type": "markdown",
   "metadata": {},
   "source": [
    "## Model"
   ]
  },
  {
   "cell_type": "code",
   "execution_count": 17,
   "metadata": {},
   "outputs": [
    {
     "name": "stdout",
     "output_type": "stream",
     "text": [
      "Validation Accuracy:  0.878234398782344\n",
      "Validation Precision:  0.8922495274102079\n",
      "Validation Recall:  0.9535353535353536\n",
      "Validation AUC  0.894307270233196\n"
     ]
    }
   ],
   "source": [
    "# Model: LightGBM\n",
    "features = [\n",
    "    'humidity',\n",
    "    'cloud',\n",
    "    'sunshine',\n",
    "    'temperature',\n",
    "    'windspeed'\n",
    "    #'pressure'\n",
    "    #'winddirection',\n",
    "]\n",
    "\n",
    "base_params = {\n",
    "    \"boosting\": \"dart\",\n",
    "    \"learning_rate\": 0.1,\n",
    "    \"max_bin\": 200,\n",
    "    \"max_depth\": 5,\n",
    "    \"num_leaves\": 40,\n",
    "    #\"is_unbalance\": True,\n",
    "    \"min_data_in_leaf\": 200,\n",
    "    \"min_gain_to_split\": 2.5,\n",
    "    \"reg_alpha\": 0.1,\n",
    "    #\"reg_lambda\": 0.1,\n",
    "    \"objective\": \"binary\",\n",
    "    \"seed\": random_state,\n",
    "    \"metric\": \"auc\",\n",
    "    #\"feature_fraction\": 0.8,\n",
    "    \"verbose\": -1,\n",
    "}\n",
    "\n",
    "training_rounds = 250\n",
    "dtrain = lgbm.Dataset(data=X_train[features], label=y_train)\n",
    "dval = lgbm.Dataset(data=X_val[features], label=y_val, reference=dtrain)\n",
    "\n",
    "lgbm_base_model = lgbm.train(\n",
    "    params=base_params,\n",
    "    train_set=dtrain,\n",
    "    num_boost_round=training_rounds,\n",
    "    valid_sets=[dtrain, dval],\n",
    "    valid_names=[\"train\", \"val\"],\n",
    ")\n",
    "\n",
    "y_val_pred_proba = lgbm_base_model.predict(X_val[features])\n",
    "y_val_pred = (y_val_pred_proba >= 0.5).astype(int)\n",
    "\n",
    "# Check model performance\n",
    "val_accuracy = accuracy_score(y_val, y_val_pred)\n",
    "val_precision = precision_score(y_val, y_val_pred)\n",
    "val_recall = recall_score(y_val, y_val_pred)\n",
    "val_roc_auc = roc_auc_score(y_val, y_val_pred_proba)\n",
    "\n",
    "print('Validation Accuracy: ', val_accuracy)\n",
    "print('Validation Precision: ', val_precision)\n",
    "print('Validation Recall: ', val_recall)\n",
    "print('Validation AUC ', val_roc_auc)"
   ]
  },
  {
   "cell_type": "code",
   "execution_count": 18,
   "metadata": {},
   "outputs": [
    {
     "name": "stdout",
     "output_type": "stream",
     "text": [
      "Validation Accuracy:  0.8493150684931506\n",
      "Validation Precision:  0.9159663865546218\n",
      "Validation Recall:  0.8808080808080808\n",
      "Validation AUC  0.8923868312757203\n"
     ]
    }
   ],
   "source": [
    "# Logistic regression\n",
    "features = [\n",
    "    'cloud_scaled',\n",
    "    'humidity_scaled',\n",
    "    'sunshine_scaled',\n",
    "    #'temperature_difference',\n",
    "    #'windspeed_squared'\n",
    "    #'temperature_scaled',\n",
    "    #'windspeed'\n",
    "    #'pressure'\n",
    "    #'winddirection',\n",
    "]\n",
    "\n",
    "lr = LogisticRegression(\n",
    "    solver='lbfgs',\n",
    "    class_weight='balanced',\n",
    "    random_state=random_state, \n",
    "    max_iter=500\n",
    "    #n_jobs=-1\n",
    ")\n",
    "lr.fit(X_train[features], y_train)\n",
    "\n",
    "y_val_pred_proba = lr.predict_proba(X_val[features])[:, 1]\n",
    "y_val_pred = lr.predict(X_val[features])\n",
    "\n",
    "# Check model performance\n",
    "val_accuracy = accuracy_score(y_val, y_val_pred)\n",
    "val_precision = precision_score(y_val, y_val_pred)\n",
    "val_recall = recall_score(y_val, y_val_pred)\n",
    "val_roc_auc = roc_auc_score(y_val, y_val_pred_proba)\n",
    "\n",
    "print('Validation Accuracy: ', val_accuracy)\n",
    "print('Validation Precision: ', val_precision)\n",
    "print('Validation Recall: ', val_recall)\n",
    "print('Validation AUC ', val_roc_auc)"
   ]
  },
  {
   "cell_type": "code",
   "execution_count": 19,
   "metadata": {},
   "outputs": [
    {
     "name": "stdout",
     "output_type": "stream",
     "text": [
      "Validation Accuracy:  0.8569254185692542\n",
      "Validation Precision:  0.8775894538606404\n",
      "Validation Recall:  0.9414141414141414\n",
      "Validation AUC  0.8621336825040529\n"
     ]
    }
   ],
   "source": [
    "# Random Forest Classifier\n",
    "features = [\n",
    "    'cloud',\n",
    "    'humidity',\n",
    "    'sunshine',\n",
    "    'temperature_difference',\n",
    "    #'windspeed_squared'\n",
    "    #'temperature_scaled',\n",
    "    #'windspeed',\n",
    "    #'pressure',\n",
    "    #'winddirection',\n",
    "]\n",
    "\n",
    "rf = RandomForestClassifier(n_estimators=100, random_state=random_state)\n",
    "rf.fit(X_train[features], y_train)\n",
    "\n",
    "y_val_pred_proba = rf.predict_proba(X_val[features])[:, 1]\n",
    "y_val_pred = rf.predict(X_val[features])\n",
    "\n",
    "# Check model performance\n",
    "val_accuracy = accuracy_score(y_val, y_val_pred)\n",
    "val_precision = precision_score(y_val, y_val_pred)\n",
    "val_recall = recall_score(y_val, y_val_pred)\n",
    "val_roc_auc = roc_auc_score(y_val, y_val_pred_proba)\n",
    "\n",
    "print('Validation Accuracy: ', val_accuracy)\n",
    "print('Validation Precision: ', val_precision)\n",
    "print('Validation Recall: ', val_recall)\n",
    "print('Validation AUC ', val_roc_auc)"
   ]
  },
  {
   "cell_type": "code",
   "execution_count": null,
   "metadata": {},
   "outputs": [
    {
     "name": "stdout",
     "output_type": "stream",
     "text": [
      "Fitting 3 folds for each of 16 candidates, totalling 48 fits\n",
      "Validation Accuracy:  0.8264840182648402\n",
      "Validation Precision:  0.8245315161839863\n",
      "Validation Recall:  0.9777777777777777\n",
      "Validation AUC  0.890329218106996\n"
     ]
    }
   ],
   "source": [
    "# XGBoost + GridSearchCV\n",
    "param_grid = {\n",
    "    'objective': ['binary:logistic'],\n",
    "    'scale_pos_weight': [1, 4],\n",
    "    'min_child_weight': [1, 10],\n",
    "    'max_depth': [3, 5],\n",
    "    'learning_rate': [0.05, 0.01],\n",
    "    'eval_metric': ['auc'],\n",
    "    #'reg_alpha': [0.1],\n",
    "    #'reg_lambda': [0.1]\n",
    "}\n",
    "\n",
    "kf = KFold(n_splits=3, shuffle=True, random_state=random_state)\n",
    "\n",
    "xgb = XGBClassifier(\n",
    "    random_state=random_state\n",
    ")\n",
    "\n",
    "grid_search_xgb = GridSearchCV(\n",
    "    estimator=xgb,\n",
    "    param_grid=param_grid,\n",
    "    cv=kf,\n",
    "    scoring='roc_auc',\n",
    "    verbose=1\n",
    ")\n",
    "\n",
    "grid_search_xgb.fit(\n",
    "    X_train[features], y_train,\n",
    "    eval_set=[(X_val[features], y_val)],\n",
    "    #early_stopping_rounds=10,\n",
    "    verbose=False\n",
    ")\n",
    "\n",
    "y_val_pred_proba = grid_search_xgb.predict_proba(X_val[features])[:, 1]\n",
    "y_val_pred = grid_search_xgb.predict(X_val[features])\n",
    "\n",
    "# Check model performance\n",
    "val_accuracy = accuracy_score(y_val, y_val_pred)\n",
    "val_precision = precision_score(y_val, y_val_pred)\n",
    "val_recall = recall_score(y_val, y_val_pred)\n",
    "val_roc_auc = roc_auc_score(y_val, y_val_pred_proba)\n",
    "\n",
    "print('Validation Accuracy: ', val_accuracy)\n",
    "print('Validation Precision: ', val_precision)\n",
    "print('Validation Recall: ', val_recall)\n",
    "print('Validation AUC ', val_roc_auc)"
   ]
  },
  {
   "cell_type": "markdown",
   "metadata": {},
   "source": [
    "## Final Output"
   ]
  },
  {
   "cell_type": "markdown",
   "metadata": {},
   "source": [
    "Seems like LightGBM is performing well on this dataset. For these initial versions I will use this model to predict on the test dataset. \n",
    "\n",
    "_Note: I will later try adding the original dataset, since the instructions say that this could improve the performance of the models._"
   ]
  },
  {
   "cell_type": "code",
   "execution_count": 29,
   "metadata": {},
   "outputs": [],
   "source": [
    "features = [\n",
    "    'humidity',\n",
    "    'cloud',\n",
    "    'sunshine',\n",
    "    'temperature',\n",
    "    'windspeed'\n",
    "]\n",
    "y_test_pred = lgbm_base_model.predict(test[features])\n",
    "test['rainfall'] = y_test_pred\n",
    "test[['id', 'rainfall']].to_csv('submission.csv', index=False)"
   ]
  }
 ],
 "metadata": {
  "kaggle": {
   "accelerator": "none",
   "dataSources": [
    {
     "databundleVersionId": 11251744,
     "sourceId": 91714,
     "sourceType": "competition"
    }
   ],
   "dockerImageVersionId": 30918,
   "isGpuEnabled": false,
   "isInternetEnabled": true,
   "language": "python",
   "sourceType": "notebook"
  },
  "kernelspec": {
   "display_name": ".venv",
   "language": "python",
   "name": "python3"
  },
  "language_info": {
   "codemirror_mode": {
    "name": "ipython",
    "version": 3
   },
   "file_extension": ".py",
   "mimetype": "text/x-python",
   "name": "python",
   "nbconvert_exporter": "python",
   "pygments_lexer": "ipython3",
   "version": "3.13.2"
  }
 },
 "nbformat": 4,
 "nbformat_minor": 4
}
